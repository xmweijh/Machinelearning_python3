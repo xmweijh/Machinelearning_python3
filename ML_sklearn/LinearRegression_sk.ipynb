{
 "cells": [
  {
   "cell_type": "markdown",
   "id": "d98dc17d",
   "metadata": {},
   "source": [
    "# 线性回归API\n",
    "- sklearn.linear_model.LinearRegression()\n",
    "    - LinearRegression.coef_：回归系数"
   ]
  },
  {
   "cell_type": "markdown",
   "id": "44d21bbe",
   "metadata": {},
   "source": [
    "- 导入模块"
   ]
  },
  {
   "cell_type": "code",
   "execution_count": 9,
   "id": "4b5545b8",
   "metadata": {},
   "outputs": [],
   "source": [
    "from sklearn.linear_model import LinearRegression"
   ]
  },
  {
   "cell_type": "markdown",
   "id": "33a15b2f",
   "metadata": {},
   "source": [
    "- 构造数据集"
   ]
  },
  {
   "cell_type": "code",
   "execution_count": 2,
   "id": "9331ee9e",
   "metadata": {},
   "outputs": [],
   "source": [
    "x = [[80, 86],\n",
    "[82, 80],\n",
    "[85, 78],\n",
    "[90, 90],\n",
    "[86, 82],\n",
    "[82, 90],\n",
    "[78, 80],\n",
    "[92, 94]]\n",
    "y = [84.2, 80.6, 80.1, 90, 83.2, 87.6, 79.4, 93.4]"
   ]
  },
  {
   "cell_type": "markdown",
   "id": "702e6a81",
   "metadata": {},
   "source": [
    "- 机器学习-- 模型训练"
   ]
  },
  {
   "cell_type": "code",
   "execution_count": 5,
   "id": "c667c8c3",
   "metadata": {},
   "outputs": [
    {
     "data": {
      "text/plain": [
       "array([86.])"
      ]
     },
     "execution_count": 5,
     "metadata": {},
     "output_type": "execute_result"
    }
   ],
   "source": [
    "# 实例化API\n",
    "estimator = LinearRegression()\n",
    "# 使用fit方法进行训练\n",
    "estimator.fit(x,y)\n",
    "\n",
    "# 即是权重参数 w\n",
    "estimator.coef_\n",
    " \n",
    "estimator.predict([[100, 80]])"
   ]
  },
  {
   "cell_type": "markdown",
   "id": "da88f8ab",
   "metadata": {},
   "source": [
    "# sklearn.linear_model.LinearRegression(fit_intercept=True)\n",
    "- 通过正规方程优化\n",
    "- fit_intercept：是否计算偏置-\n",
    "- LinearRegression.coef_：回归系数\n",
    "- LinearRegression.intercept_：偏置"
   ]
  },
  {
   "cell_type": "markdown",
   "id": "3703041c",
   "metadata": {},
   "source": [
    "# sklearn.linear_model.SGDRegressor(loss=\"squared_loss\", fit_intercept=True, learning_rate ='invscaling', eta0=0.01)\n",
    "- SGDRegressor类实现了随机梯度下降学习，它支持不同的loss函数和正则化惩罚项来拟合线性回归模型。\n",
    "- loss:损失类型\n",
    "- loss=”squared_loss”: 普通最小二乘法\n",
    "- fit_intercept：是否计算偏置\n",
    "- learning_rate : string, optional\n",
    "    - 学习率填充\n",
    "- 'constant': eta = eta0\n",
    "- 'optimal': eta = 1.0 / (alpha * (t + t0)) [default]\n",
    "- 'invscaling': eta = eta0 / pow(t, power_t)\n",
    "- power_t=0.25:存在父类当中\n",
    "- 对于一个常数值的学习率来说，可以使用learning_rate=’constant’ ，并使用eta0来指定学习率。\n",
    "\n",
    "\n",
    "- SGDRegressor.coef_：回归系数\n",
    "- SGDRegressor.intercept_：偏置"
   ]
  },
  {
   "cell_type": "markdown",
   "id": "6ecb6196",
   "metadata": {},
   "source": [
    "# 回归性能评估\n",
    "均方误差(Mean Squared Error)MSE)评价机制：\n",
    "\n",
    "sklearn.metrics.mean_squared_error(y_true, y_pred)\n",
    "- 均方误差回归损失\n",
    "- y_true:真实值\n",
    "- y_pred:预测值\n",
    "- return:浮点数结果"
   ]
  },
  {
   "cell_type": "code",
   "execution_count": 14,
   "id": "874a8a96",
   "metadata": {},
   "outputs": [],
   "source": [
    "from sklearn.datasets import load_boston\n",
    "from sklearn.linear_model import LinearRegression\n",
    "from sklearn.linear_model import SGDRegressor\n",
    "from sklearn.model_selection import train_test_split\n",
    "\n",
    "from sklearn.preprocessing import StandardScaler\n",
    "from sklearn.metrics import mean_squared_error"
   ]
  },
  {
   "cell_type": "code",
   "execution_count": 3,
   "id": "0875cf38",
   "metadata": {},
   "outputs": [],
   "source": [
    "def linear_model1():\n",
    "    \"\"\"\n",
    "    线性回归:正规方程\n",
    "    :return:None\n",
    "    \"\"\"\n",
    "    # 1.获取数据\n",
    "    data = load_boston()\n",
    " \n",
    "    # 2.数据集划分\n",
    "    x_train, x_test, y_train, y_test = train_test_split(data.data, data.target, random_state=22)\n",
    " \n",
    "    # 3.特征工程-标准化\n",
    "    transfer = StandardScaler()\n",
    "    x_train = transfer.fit_transform(x_train)\n",
    "    x_test = transfer.fit_transform(x_test)\n",
    " \n",
    "    # 4.机器学习-线性回归(特征方程)\n",
    "    estimator = LinearRegression()\n",
    "    estimator.fit(x_train, y_train)\n",
    " \n",
    "    # 5.模型评估\n",
    "    # 5.1 获取系数等值\n",
    "    y_predict = estimator.predict(x_test)\n",
    "    print(\"预测值为:\\n\", y_predict)\n",
    "    print(\"模型中的系数为:\\n\", estimator.coef_)\n",
    "    print(\"模型中的偏置为:\\n\", estimator.intercept_)\n",
    " \n",
    "    # 5.2 评价\n",
    "    # 均方误差\n",
    "    error = mean_squared_error(y_test, y_predict)\n",
    "    print(\"误差为:\\n\", error)\n",
    " \n",
    " \n",
    "def linear_model2():\n",
    "    \"\"\"\n",
    "    线性回归:梯度下降法\n",
    "    :return:None\n",
    "    \"\"\"\n",
    "    # 1.获取数据\n",
    "    data = load_boston()\n",
    " \n",
    "    # 2.数据集划分\n",
    "    x_train, x_test, y_train, y_test = train_test_split(data.data, data.target, random_state=22)\n",
    " \n",
    "    # 3.特征工程-标准化\n",
    "    transfer = StandardScaler()\n",
    "    x_train = transfer.fit_transform(x_train)\n",
    "    x_test = transfer.fit_transform(x_test)\n",
    " \n",
    "    # 4.机器学习-线性回归(特征方程)\n",
    "    estimator = SGDRegressor(max_iter=1000)\n",
    "    # estimator = SGDRegressor(max_iter=1000,learning_rate=\"constant\",eta0=0.1)\n",
    "    estimator.fit(x_train, y_train)\n",
    " \n",
    "    # 5.模型评估\n",
    "    # 5.1 获取系数等值\n",
    "    y_predict = estimator.predict(x_test)\n",
    "    print(\"预测值为:\\n\", y_predict)\n",
    "    print(\"模型中的系数为:\\n\", estimator.coef_)\n",
    "    print(\"模型中的偏置为:\\n\", estimator.intercept_)\n",
    " \n",
    "    # 5.2 评价\n",
    "    # 均方误差\n",
    "    error = mean_squared_error(y_test, y_predict)\n",
    "    print(\"误差为:\\n\", error)"
   ]
  },
  {
   "cell_type": "code",
   "execution_count": 16,
   "id": "7de9bdca",
   "metadata": {},
   "outputs": [
    {
     "name": "stdout",
     "output_type": "stream",
     "text": [
      "预测值为:\n",
      " [28.14790667 31.30481159 20.5173895  31.4803076  19.01576648 18.26058425\n",
      " 20.57439825 18.45232382 18.46065155 32.93661269 20.3603692  27.24886071\n",
      " 14.81691426 19.20872297 37.01503458 18.32036009  7.71389628 17.56196944\n",
      " 30.18543811 23.60655873 18.14917545 33.84385342 28.48976083 16.9967041\n",
      " 34.76065063 26.22246312 34.83857168 26.62310118 18.64402278 13.21154037\n",
      " 30.37364532 14.70785748 37.18173708  8.88049446 15.06699441 16.14502168\n",
      "  7.19990762 19.17049423 39.56848262 28.23663    24.62411509 16.75182833\n",
      " 37.84465582  5.71770376 21.21547924 24.63882018 18.8561516  19.93416672\n",
      " 15.19839712 26.29892968  7.4274177  27.14300763 29.18745146 16.27895854\n",
      "  7.99799673 35.46394958 32.38905222 20.83161049 16.41464618 20.87141783\n",
      " 22.92150844 23.60828508 19.32245804 38.33751529 23.87463642 18.98494066\n",
      " 12.63480997  6.12915396 41.44675745 21.08894595 16.27561572 21.48546861\n",
      " 40.74502107 20.4839158  36.82098808 27.0452329  19.79437176 19.64484428\n",
      " 24.58763105 21.08454269 30.91968983 19.3326693  22.30088735 31.0904808\n",
      " 26.36418084 20.25648139 28.81879823 20.82632806 26.01779216 19.37871837\n",
      " 24.9599814  22.31091614 18.94468902 18.77414161 14.07143768 17.44450331\n",
      " 24.19727889 15.86077811 20.09007025 26.51946463 20.1336741  17.02456077\n",
      " 23.86647679 22.84428441 21.00754322 36.17169898 14.67959839 20.5656347\n",
      " 32.46704858 33.24183156 19.81162376 26.55899048 20.90676734 16.42301853\n",
      " 20.76605527 20.54658755 26.86304808 24.14176193 23.23824644 13.81640493\n",
      " 15.37727091  2.79513898 28.89744167 19.80407672 21.50002831 27.5410586\n",
      " 28.54270527]\n",
      "模型中的系数为:\n",
      " [-0.64817766  1.14673408 -0.05949444  0.74216553 -1.95515269  2.70902585\n",
      " -0.07737374 -3.29889391  2.50267196 -1.85679269 -1.75044624  0.87341624\n",
      " -3.91336869]\n",
      "模型中的偏置为:\n",
      " 22.62137203166228\n",
      "误差为:\n",
      " 20.0621939903598\n",
      "预测值为:\n",
      " [28.19371124 31.305332   20.88452485 31.33652346 19.32047537 18.36059016\n",
      " 20.83310804 18.37804408 18.63028602 32.81141327 20.70134946 26.8646702\n",
      " 14.89009054 19.4334644  37.14847655 18.05830377  8.39420631 17.71237147\n",
      " 30.33696011 23.59884258 18.21232181 33.78666899 28.07300351 16.77544149\n",
      " 34.55811257 26.00802719 34.17222469 26.56438564 18.61508961 14.25530756\n",
      " 30.32164409 13.28602014 37.28280148  9.48884332 15.28506539 15.68414685\n",
      "  7.38077395 18.91854936 39.32919479 28.58315543 24.64588544 16.92249743\n",
      " 38.45623576  5.49228186 20.90947793 24.29955797 19.50980113 20.18356268\n",
      " 14.81908514 26.39628399  8.66331882 26.70031285 29.12876183 16.3277853\n",
      "  8.18584783 35.33346781 31.21400295 22.06078032 16.46032507 20.72802946\n",
      " 22.97285198 23.33166518 19.62649826 37.86475835 25.08225452 18.89889535\n",
      " 12.91905725  5.94719344 41.84306436 20.99454876 15.82724736 21.68038783\n",
      " 40.92300752 20.82588063 36.79632094 26.92931116 20.77856354 19.84873603\n",
      " 24.62373375 22.91322482 31.23498573 19.15784964 22.21671177 30.81222737\n",
      " 26.82192841 20.27533504 28.65834699 21.02776199 26.4040026  17.95251455\n",
      " 24.35678327 22.01868989 19.06691914 19.77895122 14.32511056 17.38043636\n",
      " 23.8203725  15.92241972 19.81053947 26.57399171 20.05801972 17.22768709\n",
      " 23.68537301 22.63940698 19.64562307 35.57949351 14.89711464 21.65995948\n",
      " 32.20519909 32.9210308  19.7607103  25.4077794  21.8332943  16.88610125\n",
      " 20.62915627 20.58851516 26.60270971 24.25191476 23.10262745 13.56770553\n",
      " 15.60510472  2.52533967 28.8381918  19.88926937 21.43422048 27.51735797\n",
      " 28.20605238]\n",
      "模型中的系数为:\n",
      " [-0.49234024  0.86176313 -0.42326849  0.78497388 -1.54615147  2.86715862\n",
      " -0.18236006 -2.99662937  1.5476556  -0.87475951 -1.70701898  0.88608582\n",
      " -3.85386287]\n",
      "模型中的偏置为:\n",
      " [22.64266819]\n",
      "误差为:\n",
      " 20.425939080632403\n"
     ]
    }
   ],
   "source": [
    "linear_model1()\n",
    "linear_model2()"
   ]
  },
  {
   "cell_type": "markdown",
   "id": "cb604f7e",
   "metadata": {},
   "source": [
    "# 正则化线性模型\n",
    "- Ridge Regression 岭回归\n",
    "- Lasso 回归\n",
    "- Elastic Net 弹性网络\n",
    "- Early stopping\n",
    "\n",
    "\n",
    "- 常用：岭回归\n",
    "\n",
    "- 假设只有少部分特征是有用的：\n",
    "\n",
    "    - 弹性网络\n",
    "    - Lasso\n",
    "    - 一般来说，弹性网络的使用更为广泛。因为在特征维度高于训练样本数，或者特征是强相关的情况下，Lasso回归的表现不太稳定。\n",
    "\n",
    "\n",
    "- api:\n",
    "\n",
    "    - from sklearn.linear_model import Ridge, ElasticNet, Lasso"
   ]
  },
  {
   "cell_type": "markdown",
   "id": "069ae842",
   "metadata": {},
   "source": [
    "# 线性回归的改进-岭回归\n",
    "- API\n",
    "- sklearn.linear_model.Ridge(alpha=1.0, fit_intercept=True,solver=\"auto\", normalize=False)\n",
    "    - 具有l2正则化的线性回归\n",
    "    - alpha:正则化力度，也叫 λ\n",
    "    - λ取值：0~1 1~10\n",
    "    - solver:会根据数据自动选择优化方法\n",
    "    - sag:如果数据集、特征都比较大，选择该随机梯度下降优化\n",
    "    - normalize:数据是否进行标准化\n",
    "    - normalize=False:可以在fit之前调用preprocessing.StandardScaler标准化数据\n",
    "    - Ridge.coef_:回归权重\n",
    "    - Ridge.intercept_:回归偏置\n",
    "- Ridge方法相当于SGDRegressor(penalty='l2', loss=\"squared_loss\"),只不过SGDRegressor实现了一个普通的随机梯度下降学习，推荐使用Ridge(实现了SAG)\n",
    "\n",
    "- sklearn.linear_model.RidgeCV(_BaseRidgeCV, RegressorMixin)\n",
    "- 具有l2正则化的线性回归，可以进行交叉验证\n",
    "- coef_:回归系数"
   ]
  },
  {
   "cell_type": "code",
   "execution_count": null,
   "id": "58441a5d",
   "metadata": {},
   "outputs": [],
   "source": [
    "class _BaseRidgeCV(LinearModel):\n",
    "    def __init__(self, alphas=(0.1, 1.0, 10.0),\n",
    "                 fit_intercept=True, normalize=False,scoring=None,\n",
    "                 cv=None, gcv_mode=None,\n",
    "                 store_cv_values=False):"
   ]
  },
  {
   "cell_type": "code",
   "execution_count": 1,
   "id": "e3a42c4d",
   "metadata": {},
   "outputs": [],
   "source": [
    "from sklearn.linear_model import Ridge, ElasticNet, Lasso\n",
    "\n",
    "def linear_model3():\n",
    "    \"\"\"\n",
    "    线性回归:岭回归\n",
    "    :return:\n",
    "    \"\"\"\n",
    "    # 1.获取数据\n",
    "    data = load_boston()\n",
    " \n",
    "    # 2.数据集划分\n",
    "    x_train, x_test, y_train, y_test = train_test_split(data.data, data.target, random_state=22)\n",
    " \n",
    "    # 3.特征工程-标准化\n",
    "    transfer = StandardScaler()\n",
    "    x_train = transfer.fit_transform(x_train)\n",
    "    x_test = transfer.fit_transform(x_test)\n",
    " \n",
    "    # 4.机器学习-线性回归(岭回归)\n",
    "    estimator = Ridge(alpha=1)\n",
    "    # estimator = RidgeCV(alphas=(0.1, 1, 10))\n",
    "    estimator.fit(x_train, y_train)\n",
    " \n",
    "    # 5.模型评估\n",
    "    # 5.1 获取系数等值\n",
    "    y_predict = estimator.predict(x_test)\n",
    "    print(\"预测值为:\\n\", y_predict)\n",
    "    print(\"模型中的系数为:\\n\", estimator.coef_)\n",
    "    print(\"模型中的偏置为:\\n\", estimator.intercept_)\n",
    " \n",
    "    # 5.2 评价\n",
    "    # 均方误差\n",
    "    error = mean_squared_error(y_test, y_predict)\n",
    "    print(\"误差为:\\n\", error)"
   ]
  },
  {
   "cell_type": "code",
   "execution_count": 17,
   "id": "409815da",
   "metadata": {},
   "outputs": [
    {
     "name": "stdout",
     "output_type": "stream",
     "text": [
      "预测值为:\n",
      " [28.13514381 31.28742806 20.54637256 31.45779505 19.05568933 18.26035004\n",
      " 20.59277879 18.46395399 18.49310689 32.89149735 20.38916336 27.19539571\n",
      " 14.82641534 19.22385973 36.98699955 18.29852297  7.78481347 17.58930015\n",
      " 30.19228148 23.61186682 18.14688039 33.81334203 28.44588593 16.97492092\n",
      " 34.72357533 26.19400705 34.77212916 26.62689656 18.63066492 13.34246426\n",
      " 30.35128911 14.59472585 37.18259957  8.93178571 15.10673508 16.1072542\n",
      "  7.22299512 19.14535184 39.53308652 28.26937936 24.62676357 16.76310494\n",
      " 37.85719041  5.71249289 21.17777272 24.60640023 18.90197753 19.95020929\n",
      " 15.1922374  26.27853095  7.55102357 27.10160025 29.17947182 16.275476\n",
      "  8.02888564 35.42165713 32.28262473 20.9525814  16.43494393 20.88177884\n",
      " 22.92764493 23.58271167 19.35870763 38.27704421 23.98459232 18.96691367\n",
      " 12.66552625  6.122414   41.44033214 21.09214394 16.23412117 21.51649375\n",
      " 40.72274345 20.53192898 36.78646575 27.01972904 19.91315009 19.66906691\n",
      " 24.59629369 21.2589005  30.93402996 19.33386041 22.3055747  31.07671682\n",
      " 26.39230161 20.24709071 28.79113538 20.85968277 26.04247756 19.25344252\n",
      " 24.9235031  22.29606909 18.94734935 18.83346051 14.09641763 17.43434945\n",
      " 24.16599713 15.86179766 20.05792005 26.51141362 20.11472351 17.03501767\n",
      " 23.83611956 22.82305362 20.88305157 36.10592864 14.72050619 20.67225818\n",
      " 32.43628539 33.17614341 19.8129561  26.45401305 20.97734485 16.47095097\n",
      " 20.76417338 20.58558754 26.85985053 24.18030055 23.22217136 13.7919355\n",
      " 15.38830634  2.78927979 28.87941047 19.80046894 21.50479706 27.53668749\n",
      " 28.48598562]\n",
      "模型中的系数为:\n",
      " [-0.63591916  1.12109181 -0.09319611  0.74628129 -1.91888749  2.71927719\n",
      " -0.08590464 -3.25882705  2.41315949 -1.76930347 -1.74279405  0.87205004\n",
      " -3.89758657]\n",
      "模型中的偏置为:\n",
      " 22.62137203166228\n",
      "误差为:\n",
      " 20.064724392806884\n"
     ]
    }
   ],
   "source": [
    "linear_model3()"
   ]
  },
  {
   "cell_type": "markdown",
   "id": "d5eab858",
   "metadata": {},
   "source": [
    "# 模型的保存和加载\n",
    "- sklearn模型的保存和加载API\n",
    "- from sklearn.externals import joblib\n",
    "- 保存：joblib.dump(estimator, 'test.pkl')\n",
    "- 加载：estimator = joblib.load('test.pkl')"
   ]
  },
  {
   "cell_type": "code",
   "execution_count": null,
   "id": "0b8435be",
   "metadata": {},
   "outputs": [],
   "source": [
    "def load_dump_demo():\n",
    "    \"\"\"\n",
    "    线性回归:岭回归\n",
    "    :return:\n",
    "    \"\"\"\n",
    "    # 1.获取数据\n",
    "    data = load_boston()\n",
    " \n",
    "    # 2.数据集划分\n",
    "    x_train, x_test, y_train, y_test = train_test_split(data.data, data.target, random_state=22)\n",
    " \n",
    "    # 3.特征工程-标准化\n",
    "    transfer = StandardScaler()\n",
    "    x_train = transfer.fit_transform(x_train)\n",
    "    x_test = transfer.fit_transform(x_test)\n",
    " \n",
    "    # 4.机器学习-线性回归(岭回归)\n",
    "    # # 4.1 模型训练\n",
    "    # estimator = Ridge(alpha=1)\n",
    "    # estimator.fit(x_train, y_train)\n",
    "    #\n",
    "    # # 4.2 模型保存\n",
    "    # joblib.dump(estimator, \"./data/test.pkl\")\n",
    " \n",
    "    # 4.3 模型加载\n",
    "    estimator = joblib.load(\"./data/test.pkl\")\n",
    " \n",
    "    # 5.模型评估\n",
    "    # 5.1 获取系数等值\n",
    "    y_predict = estimator.predict(x_test)\n",
    "    print(\"预测值为:\\n\", y_predict)\n",
    "    print(\"模型中的系数为:\\n\", estimator.coef_)\n",
    "    print(\"模型中的偏置为:\\n\", estimator.intercept_)\n",
    " \n",
    "    # 5.2 评价\n",
    "    # 均方误差\n",
    "    error = mean_squared_error(y_test, y_predict)\n",
    "    print(\"误差为:\\n\", error)"
   ]
  }
 ],
 "metadata": {
  "kernelspec": {
   "display_name": "Python 3",
   "language": "python",
   "name": "python3"
  },
  "language_info": {
   "codemirror_mode": {
    "name": "ipython",
    "version": 3
   },
   "file_extension": ".py",
   "mimetype": "text/x-python",
   "name": "python",
   "nbconvert_exporter": "python",
   "pygments_lexer": "ipython3",
   "version": "3.8.8"
  }
 },
 "nbformat": 4,
 "nbformat_minor": 5
}
