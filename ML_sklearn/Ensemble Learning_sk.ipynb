{
 "cells": [
  {
   "cell_type": "markdown",
   "id": "c33de628",
   "metadata": {},
   "source": [
    "# 随机森林api介绍\n",
    "- sklearn.ensemble.RandomForestClassifier(n_estimators=10, criterion=’gini’, max_depth=None, bootstrap=True, random_state=None, min_samples_split=2)\n",
    "    - n_estimators：integer，optional（default = 10）森林里的树木数量120,200,300,500,800,1200\n",
    "    - Criterion：string，可选（default =“gini”）分割特征的测量方法\n",
    "    - max_depth：integer或None，可选（默认=无）树的最大深度 5,8,15,25,30\n",
    "    - max_features=\"auto”,每个决策树的最大特征数量\n",
    "        - If \"auto\", then max_features=sqrt(n_features).\n",
    "        - If \"sqrt\", then max_features=sqrt(n_features)(same as \"auto\").\n",
    "        - If \"log2\", then max_features=log2(n_features).\n",
    "        - If None, then max_features=n_features.\n",
    "    - bootstrap：boolean，optional（default = True）是否在构建树时使用放回抽样\n",
    "    - min_samples_split:节点划分最少样本数\n",
    "    - min_samples_leaf:叶子节点的最小样本数\n",
    "    - 超参数：n_estimator, max_depth, min_samples_split,min_samples_leaf"
   ]
  },
  {
   "cell_type": "code",
   "execution_count": 1,
   "id": "4acbdec9",
   "metadata": {},
   "outputs": [],
   "source": [
    "from sklearn.ensemble import RandomForestClassifier\n",
    "# 随机森林去进行预测\n",
    "rf = RandomForestClassifier()"
   ]
  },
  {
   "cell_type": "code",
   "execution_count": 2,
   "id": "5e363bc4",
   "metadata": {},
   "outputs": [],
   "source": [
    "param = {\"n_estimators\": [120,200,300,500,800,1200], \"max_depth\": [5, 8, 15, 25, 30]}"
   ]
  },
  {
   "cell_type": "code",
   "execution_count": 4,
   "id": "a43cb3ba",
   "metadata": {},
   "outputs": [],
   "source": [
    "from sklearn.datasets import load_iris\n",
    "from sklearn.model_selection import train_test_split\n",
    "from sklearn.preprocessing import StandardScaler\n",
    "# 1、获取数据集\n",
    "iris = load_iris()\n",
    "# 2、数据基本处理 -- 划分数据集\n",
    "x_train, x_test, y_train, y_test = train_test_split(iris.data, iris.target, random_state=22)\n",
    "# 3、特征工程：标准化\n",
    "# 实例化一个转换器类\n",
    "transfer = StandardScaler()\n",
    "# 调用fit_transform\n",
    "x_train = transfer.fit_transform(x_train)\n",
    "x_test = transfer.transform(x_test)"
   ]
  },
  {
   "cell_type": "code",
   "execution_count": 7,
   "id": "be10e369",
   "metadata": {},
   "outputs": [
    {
     "name": "stdout",
     "output_type": "stream",
     "text": [
      "比对预测结果和真实值：\n",
      " [ True  True  True  True  True  True  True False  True  True  True  True\n",
      "  True  True  True  True  True  True False  True  True  True  True  True\n",
      "  True  True  True  True  True  True  True  True  True  True  True  True\n",
      "  True  True]\n",
      "直接计算准确率：\n",
      " 0.9473684210526315\n"
     ]
    }
   ],
   "source": [
    "from sklearn.model_selection import GridSearchCV\n",
    "# 超参数调优\n",
    "# 交叉验证，网格搜索\n",
    "gc = GridSearchCV(rf, param_grid=param, cv=2)\n",
    "\n",
    "gc.fit(x_train, y_train)\n",
    "\n",
    "y_predict = gc.predict(x_test)\n",
    "print(\"比对预测结果和真实值：\\n\", y_predict == y_test)\n",
    "# 方法b：直接计算准确率\n",
    "score = gc.score(x_test, y_test)\n",
    "print(\"直接计算准确率：\\n\", score)"
   ]
  },
  {
   "cell_type": "code",
   "execution_count": 8,
   "id": "fdadd80a",
   "metadata": {},
   "outputs": [
    {
     "name": "stdout",
     "output_type": "stream",
     "text": [
      "在交叉验证中验证的最好结果：\n",
      " 0.9464285714285714\n",
      "最好的参数模型：\n",
      " RandomForestClassifier(max_depth=5, n_estimators=500)\n",
      "每次交叉验证后的准确率结果：\n",
      " {'mean_fit_time': array([0.25118935, 0.43284345, 0.63139641, 0.93079507, 1.55612433,\n",
      "       2.77885818, 0.3249892 , 0.42160988, 1.08015728, 1.22302186,\n",
      "       1.62967706, 2.36330187, 0.22343838, 0.37121499, 0.73296988,\n",
      "       1.06893492, 1.50614297, 2.35341632, 0.29064214, 0.36929965,\n",
      "       0.72388577, 0.96661389, 1.78441727, 2.65403092, 0.22714984,\n",
      "       0.37024903, 0.5938971 , 0.93799245, 1.510566  , 2.25665677]), 'std_fit_time': array([0.03207338, 0.03989458, 0.00407469, 0.01895344, 0.00589383,\n",
      "       0.27441978, 0.07020581, 0.01570058, 0.1247139 , 0.07982051,\n",
      "       0.07880449, 0.05828011, 0.00699174, 0.00315893, 0.06411779,\n",
      "       0.14937997, 0.03006542, 0.05913579, 0.05413425, 0.00170755,\n",
      "       0.07611012, 0.03546178, 0.08441293, 0.08699071, 0.00873601,\n",
      "       0.00123191, 0.0284431 , 0.01990378, 0.0042901 , 0.01773822]), 'mean_score_time': array([0.01695466, 0.02994025, 0.05634928, 0.07105041, 0.11694252,\n",
      "       0.23954821, 0.01817513, 0.03540874, 0.06881535, 0.07080925,\n",
      "       0.10972345, 0.17347038, 0.01795125, 0.02788866, 0.0433507 ,\n",
      "       0.06881297, 0.12859094, 0.20343697, 0.02344584, 0.03640068,\n",
      "       0.07280624, 0.06949699, 0.13030326, 0.18676043, 0.01843572,\n",
      "       0.02892148, 0.04190564, 0.07580757, 0.13960838, 0.18050265]), 'std_score_time': array([7.15255737e-07, 3.97145748e-03, 1.34632587e-02, 1.26457214e-03,\n",
      "       1.28066540e-03, 3.87122631e-02, 7.73429871e-04, 5.45525551e-03,\n",
      "       1.09690428e-02, 2.99608707e-03, 1.63316727e-05, 1.23568773e-02,\n",
      "       9.96828079e-04, 9.93132591e-04, 4.98056412e-04, 9.92894173e-04,\n",
      "       1.75276995e-02, 3.98775339e-02, 5.49316406e-03, 8.47804546e-03,\n",
      "       2.19424963e-02, 3.50832939e-04, 2.30430365e-02, 9.26542282e-03,\n",
      "       4.81128693e-04, 9.67860222e-04, 2.01058388e-03, 4.49037552e-03,\n",
      "       3.19330692e-02, 1.69725418e-02]), 'param_max_depth': masked_array(data=[5, 5, 5, 5, 5, 5, 8, 8, 8, 8, 8, 8, 15, 15, 15, 15, 15,\n",
      "                   15, 25, 25, 25, 25, 25, 25, 30, 30, 30, 30, 30, 30],\n",
      "             mask=[False, False, False, False, False, False, False, False,\n",
      "                   False, False, False, False, False, False, False, False,\n",
      "                   False, False, False, False, False, False, False, False,\n",
      "                   False, False, False, False, False, False],\n",
      "       fill_value='?',\n",
      "            dtype=object), 'param_n_estimators': masked_array(data=[120, 200, 300, 500, 800, 1200, 120, 200, 300, 500, 800,\n",
      "                   1200, 120, 200, 300, 500, 800, 1200, 120, 200, 300,\n",
      "                   500, 800, 1200, 120, 200, 300, 500, 800, 1200],\n",
      "             mask=[False, False, False, False, False, False, False, False,\n",
      "                   False, False, False, False, False, False, False, False,\n",
      "                   False, False, False, False, False, False, False, False,\n",
      "                   False, False, False, False, False, False],\n",
      "       fill_value='?',\n",
      "            dtype=object), 'params': [{'max_depth': 5, 'n_estimators': 120}, {'max_depth': 5, 'n_estimators': 200}, {'max_depth': 5, 'n_estimators': 300}, {'max_depth': 5, 'n_estimators': 500}, {'max_depth': 5, 'n_estimators': 800}, {'max_depth': 5, 'n_estimators': 1200}, {'max_depth': 8, 'n_estimators': 120}, {'max_depth': 8, 'n_estimators': 200}, {'max_depth': 8, 'n_estimators': 300}, {'max_depth': 8, 'n_estimators': 500}, {'max_depth': 8, 'n_estimators': 800}, {'max_depth': 8, 'n_estimators': 1200}, {'max_depth': 15, 'n_estimators': 120}, {'max_depth': 15, 'n_estimators': 200}, {'max_depth': 15, 'n_estimators': 300}, {'max_depth': 15, 'n_estimators': 500}, {'max_depth': 15, 'n_estimators': 800}, {'max_depth': 15, 'n_estimators': 1200}, {'max_depth': 25, 'n_estimators': 120}, {'max_depth': 25, 'n_estimators': 200}, {'max_depth': 25, 'n_estimators': 300}, {'max_depth': 25, 'n_estimators': 500}, {'max_depth': 25, 'n_estimators': 800}, {'max_depth': 25, 'n_estimators': 1200}, {'max_depth': 30, 'n_estimators': 120}, {'max_depth': 30, 'n_estimators': 200}, {'max_depth': 30, 'n_estimators': 300}, {'max_depth': 30, 'n_estimators': 500}, {'max_depth': 30, 'n_estimators': 800}, {'max_depth': 30, 'n_estimators': 1200}], 'split0_test_score': array([0.96428571, 0.94642857, 0.96428571, 0.96428571, 0.94642857,\n",
      "       0.96428571, 0.94642857, 0.96428571, 0.96428571, 0.94642857,\n",
      "       0.94642857, 0.96428571, 0.96428571, 0.94642857, 0.96428571,\n",
      "       0.96428571, 0.96428571, 0.96428571, 0.94642857, 0.94642857,\n",
      "       0.94642857, 0.94642857, 0.94642857, 0.94642857, 0.96428571,\n",
      "       0.94642857, 0.94642857, 0.94642857, 0.94642857, 0.96428571]), 'split1_test_score': array([0.91071429, 0.92857143, 0.91071429, 0.92857143, 0.92857143,\n",
      "       0.92857143, 0.94642857, 0.92857143, 0.91071429, 0.91071429,\n",
      "       0.92857143, 0.91071429, 0.91071429, 0.92857143, 0.92857143,\n",
      "       0.91071429, 0.92857143, 0.91071429, 0.91071429, 0.91071429,\n",
      "       0.91071429, 0.92857143, 0.91071429, 0.91071429, 0.91071429,\n",
      "       0.91071429, 0.91071429, 0.91071429, 0.92857143, 0.92857143]), 'mean_test_score': array([0.9375    , 0.9375    , 0.9375    , 0.94642857, 0.9375    ,\n",
      "       0.94642857, 0.94642857, 0.94642857, 0.9375    , 0.92857143,\n",
      "       0.9375    , 0.9375    , 0.9375    , 0.9375    , 0.94642857,\n",
      "       0.9375    , 0.94642857, 0.9375    , 0.92857143, 0.92857143,\n",
      "       0.92857143, 0.9375    , 0.92857143, 0.92857143, 0.9375    ,\n",
      "       0.92857143, 0.92857143, 0.92857143, 0.9375    , 0.94642857]), 'std_test_score': array([0.02678571, 0.00892857, 0.02678571, 0.01785714, 0.00892857,\n",
      "       0.01785714, 0.        , 0.01785714, 0.02678571, 0.01785714,\n",
      "       0.00892857, 0.02678571, 0.02678571, 0.00892857, 0.01785714,\n",
      "       0.02678571, 0.01785714, 0.02678571, 0.01785714, 0.01785714,\n",
      "       0.01785714, 0.00892857, 0.01785714, 0.01785714, 0.02678571,\n",
      "       0.01785714, 0.01785714, 0.01785714, 0.00892857, 0.01785714]), 'rank_test_score': array([ 8,  8,  8,  1,  8,  1,  1,  1,  8, 22,  8,  8,  8,  8,  1,  8,  1,\n",
      "        8, 22, 22, 22,  8, 22, 22,  8, 22, 22, 22,  8,  1])}\n"
     ]
    }
   ],
   "source": [
    "print(\"在交叉验证中验证的最好结果：\\n\", gc.best_score_)\n",
    "print(\"最好的参数模型：\\n\", gc.best_estimator_)\n",
    "print(\"每次交叉验证后的准确率结果：\\n\", gc.cv_results_)"
   ]
  },
  {
   "cell_type": "markdown",
   "id": "bf56db1f",
   "metadata": {},
   "source": [
    "# bagging集成与boosting集成的区别：\n",
    "\n",
    "- 区别一:数据方面\n",
    "\n",
    "    - Bagging：对数据进行采样训练；\n",
    "\n",
    "    - Boosting：根据前一轮学习结果调整数据的重要性。\n",
    "\n",
    "- 区别二:投票方面\n",
    "\n",
    "    - Bagging：所有学习器平权投票；\n",
    "\n",
    "    - Boosting：对学习器进行加权投票。\n",
    "\n",
    "- 区别三:学习顺序\n",
    "\n",
    "    - Bagging的学习是并行的，每个学习器没有依赖关系；\n",
    "\n",
    "    - Boosting学习是串行，学习有先后顺序。\n",
    "\n",
    "- 区别四:主要作用\n",
    "\n",
    "    - Bagging主要用于提高泛化性能（解决过拟合，也可以说降低方差）\n",
    "\n",
    "    - Boosting主要用于提高训练精度 （解决欠拟合，也可以说降低偏差）"
   ]
  },
  {
   "cell_type": "markdown",
   "id": "a0dcd4e1",
   "metadata": {},
   "source": [
    "# api介绍\n",
    "from sklearn.ensemble import AdaBoostClassifier"
   ]
  },
  {
   "cell_type": "code",
   "execution_count": null,
   "id": "da3d9933",
   "metadata": {},
   "outputs": [],
   "source": []
  },
  {
   "cell_type": "code",
   "execution_count": null,
   "id": "6c8657c7",
   "metadata": {},
   "outputs": [],
   "source": []
  },
  {
   "cell_type": "code",
   "execution_count": null,
   "id": "cfc02c88",
   "metadata": {},
   "outputs": [],
   "source": []
  }
 ],
 "metadata": {
  "kernelspec": {
   "display_name": "Python 3",
   "language": "python",
   "name": "python3"
  },
  "language_info": {
   "codemirror_mode": {
    "name": "ipython",
    "version": 3
   },
   "file_extension": ".py",
   "mimetype": "text/x-python",
   "name": "python",
   "nbconvert_exporter": "python",
   "pygments_lexer": "ipython3",
   "version": "3.6.13"
  }
 },
 "nbformat": 4,
 "nbformat_minor": 5
}
